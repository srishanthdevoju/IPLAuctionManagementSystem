{
  "nbformat": 4,
  "nbformat_minor": 0,
  "metadata": {
    "colab": {
      "provenance": [],
      "authorship_tag": "ABX9TyOTK4Lya1KKzkC4tXwAYahY",
      "include_colab_link": true
    },
    "kernelspec": {
      "name": "python3",
      "display_name": "Python 3"
    },
    "language_info": {
      "name": "python"
    }
  },
  "cells": [
    {
      "cell_type": "markdown",
      "metadata": {
        "id": "view-in-github",
        "colab_type": "text"
      },
      "source": [
        "<a href=\"https://colab.research.google.com/github/srishanthdevoju/IPLAuctionManagementSystem/blob/main/numpy.ipynb\" target=\"_parent\"><img src=\"https://colab.research.google.com/assets/colab-badge.svg\" alt=\"Open In Colab\"/></a>"
      ]
    },
    {
      "cell_type": "code",
      "execution_count": null,
      "metadata": {
        "colab": {
          "base_uri": "https://localhost:8080/"
        },
        "id": "bRqrtFiCBvs4",
        "outputId": "4b5f8680-72af-431a-e14e-c87d45595d1b"
      },
      "outputs": [
        {
          "output_type": "stream",
          "name": "stdout",
          "text": [
            "HI\n"
          ]
        }
      ],
      "source": [
        "print(\"HI\")"
      ]
    },
    {
      "cell_type": "code",
      "source": [
        "import numpy as np\n",
        "arr=np.array([1,2,3,4,5])\n",
        "print(arr)\n",
        "arr2=np.array([[1,2],[4,6]])\n",
        "print(arr2.ndim)\n",
        "arr3=np.array([[[1,2],[2,5]], [[9,3],[4,6]]])\n",
        "print(arr3)\n",
        "print(arr3)\n",
        "randomarr= np.random.random((2,2))\n",
        "print(randomarr)\n",
        "onesarr=np.ones((1,4))\n",
        "print(onesarr)"
      ],
      "metadata": {
        "colab": {
          "base_uri": "https://localhost:8080/"
        },
        "id": "_HM57yBWCE3y",
        "outputId": "6c52b468-cd5c-45d2-f137-021970cc4ddf"
      },
      "execution_count": null,
      "outputs": [
        {
          "output_type": "stream",
          "name": "stdout",
          "text": [
            "[1 2 3 4 5]\n",
            "2\n",
            "[[[1 2]\n",
            "  [2 5]]\n",
            "\n",
            " [[9 3]\n",
            "  [4 6]]]\n",
            "[[[1 2]\n",
            "  [2 5]]\n",
            "\n",
            " [[9 3]\n",
            "  [4 6]]]\n",
            "[[0.6476099  0.14397365]\n",
            " [0.33752132 0.93738153]]\n",
            "[[1. 1. 1. 1.]]\n"
          ]
        }
      ]
    },
    {
      "cell_type": "code",
      "source": [
        "import numpy as np\n",
        "arangearr=np.arange(1,7,4)\n",
        "print(arangearr)"
      ],
      "metadata": {
        "colab": {
          "base_uri": "https://localhost:8080/"
        },
        "id": "CNSVVh3jGv4O",
        "outputId": "0794fd01-fae2-4a91-9dff-2bac47c7bdcb"
      },
      "execution_count": null,
      "outputs": [
        {
          "output_type": "stream",
          "name": "stdout",
          "text": [
            "[1 5]\n"
          ]
        }
      ]
    },
    {
      "cell_type": "code",
      "source": [
        "dtype1=arr.dtype\n",
        "dtype2=arr3.dtype\n",
        "print(dtype1)\n",
        "print(dtype2)\n",
        "shape=arr.shape\n",
        "print(shape)"
      ],
      "metadata": {
        "colab": {
          "base_uri": "https://localhost:8080/"
        },
        "id": "twYUhgfOC3-8",
        "outputId": "56b43627-67ae-43a0-8f04-2f3be6574952"
      },
      "execution_count": null,
      "outputs": [
        {
          "output_type": "stream",
          "name": "stdout",
          "text": [
            "int64\n",
            "int64\n",
            "(5,)\n"
          ]
        }
      ]
    },
    {
      "cell_type": "markdown",
      "source": [
        "You are working as a Data Engineer for a smart agriculture startup that collects sensor data from multiple greenhouses.\n",
        "Each greenhouse has sensors that record temperature (°C) readings at different times of the day.\n",
        "You received the following data:\n",
        "Your tasks are:\n",
        "Create NumPy arrays\n",
        "Create a 2D NumPy array named temp_data to represent the temperature readings from both greenhouses.\n",
        "Print the array.\n",
        "Check array properties\n",
        "Print the shape, size, data type, and number of dimensions of temp_data.\n",
        "Add a third greenhouse\n",
        "The third greenhouse (GH3) records [21, 23, 22].\n",
        "Create a new array updated_temp_data that includes all three greenhouses.\n",
        "Generate supporting data\n",
        "Create a zeros array (2×3) called sensor_error_flags to represent whether there were any sensor errors (0 means no error).\n",
        "Create an identity matrix of size 3×3 named greenhouse_identity to uniquely identify each greenhouse.\n",
        "Display all arrays\n",
        "Print updated_temp_data, sensor_error_flags, and greenhouse_identity."
      ],
      "metadata": {
        "id": "fIerHf2yOyg1"
      }
    },
    {
      "cell_type": "code",
      "source": [
        "gh1=np.array([22,25,20])\n",
        "gh2=np.array([24,26,23])\n",
        "temp_data=np.array([gh1,gh2])\n",
        "print(temp_data)\n",
        "shape=np.shape(temp_data)\n",
        "print(shape)\n",
        "size=np.size(temp_data)\n",
        "print(size)\n",
        "print(temp_data.dtype)\n",
        "print(temp_data.ndim)\n",
        "gh3=np.array([21, 23, 22])\n",
        "updated_temp_data=np.array([gh1, gh2, gh3])\n",
        "print(updated_temp_data)\n",
        "sensor_error_flags = np.zeros((2, 3), dtype=int)\n",
        "print(sensor_error_flags)\n",
        "greenhouse_identity = np.identity(3, dtype=int)\n",
        "print(greenhouse_identity)"
      ],
      "metadata": {
        "colab": {
          "base_uri": "https://localhost:8080/"
        },
        "id": "KgRm9kmTJNbv",
        "outputId": "8fcd7311-4925-4c27-ee11-d0473cbf6cb1"
      },
      "execution_count": null,
      "outputs": [
        {
          "output_type": "stream",
          "name": "stdout",
          "text": [
            "[[22 25 20]\n",
            " [24 26 23]]\n",
            "(2, 3)\n",
            "6\n",
            "int64\n",
            "2\n",
            "[[22 25 20]\n",
            " [24 26 23]\n",
            " [21 23 22]]\n",
            "[[0 0 0]\n",
            " [0 0 0]]\n",
            "[[1 0 0]\n",
            " [0 1 0]\n",
            " [0 0 1]]\n"
          ]
        }
      ]
    },
    {
      "cell_type": "code",
      "source": [
        "print(arr[2])\n",
        "print(arr2[1:])\n",
        "print(arr2[1,1])\n",
        "print(arr3[0,1,1])\n",
        "print(arr3[::-1])"
      ],
      "metadata": {
        "colab": {
          "base_uri": "https://localhost:8080/"
        },
        "id": "ULWaCMPCMyc3",
        "outputId": "b66423a1-9cb9-4744-cbcf-57e0361907c6"
      },
      "execution_count": null,
      "outputs": [
        {
          "output_type": "stream",
          "name": "stdout",
          "text": [
            "3\n",
            "[[4 6]]\n",
            "6\n",
            "5\n",
            "[[[9 3]\n",
            "  [4 6]]\n",
            "\n",
            " [[1 2]\n",
            "  [2 5]]]\n"
          ]
        }
      ]
    },
    {
      "cell_type": "markdown",
      "source": [
        "Indexing and Slicing:\n",
        "You are working as a Data Analyst at a fruit distribution company.\n",
        "The company stores the number of fruit boxes shipped per day (for 1 week) in a 2D NumPy array where:\n",
        "Each row represents a type of fruit.\n",
        "Each column represents a day of the week (Mon–Sun).\n",
        "\n",
        "\n",
        "Your Tasks\n",
        "Create the 2D NumPy array\n",
        "Create an array named shipments using the above data.\n",
        "Access single elements (Indexing):\n",
        "Get the number of Apples shipped on Wednesday.\n",
        "Get the number of Oranges shipped on Sunday.\n",
        "Access multiple elements (Slicing):\n",
        "Extract all the weekday shipments (Mon–Fri) for all fruits.\n",
        "Extract only the weekend shipments (Sat & Sun).\n",
        "Extract the shipments of Apples from Wednesday to Saturday.\n",
        "Bonus (Practice thinking):\n",
        "Replace the Saturday shipment of Apples (currently 80) with 100 using indexing."
      ],
      "metadata": {
        "id": "z5q9-RYLOhvW"
      }
    },
    {
      "cell_type": "code",
      "source": [
        "shipments=np.array([[50,60,55,70,65,80,90],\n",
        "                   [40,45,50,60,55,70,75]])\n",
        "appwed=shipments[0,2]\n",
        "print(appwed)\n",
        "ora=sun=shipments[1,-1]\n",
        "print(ora)\n",
        "print(shipments[:,0:5])\n",
        "print(shipments[:,5:])\n",
        "print(shipments[0,2:6])\n",
        "shipments[0,5]=100\n",
        "print(shipments)\n"
      ],
      "metadata": {
        "colab": {
          "base_uri": "https://localhost:8080/"
        },
        "id": "WwLmpmuqOmJU",
        "outputId": "cc70207a-3aea-4bf0-fc60-b685029b0b2b"
      },
      "execution_count": null,
      "outputs": [
        {
          "output_type": "stream",
          "name": "stdout",
          "text": [
            "55\n",
            "75\n",
            "[[50 60 55 70 65]\n",
            " [40 45 50 60 55]]\n",
            "[[80 90]\n",
            " [70 75]]\n",
            "[55 70 65 80]\n",
            "[[ 50  60  55  70  65 100  90]\n",
            " [ 40  45  50  60  55  70  75]]\n"
          ]
        }
      ]
    },
    {
      "cell_type": "code",
      "source": [
        "a=np.array([1,2,3])\n",
        "b=np.array([9,8,7])\n",
        "print(a+b)\n",
        "print(a-b)\n",
        "print(a*2)\n",
        "print(a*b)\n"
      ],
      "metadata": {
        "colab": {
          "base_uri": "https://localhost:8080/"
        },
        "id": "E39rSIXlXhfu",
        "outputId": "e41259a0-574e-4c5d-e222-808bfc7a13a8"
      },
      "execution_count": null,
      "outputs": [
        {
          "output_type": "stream",
          "name": "stdout",
          "text": [
            "[10 10 10]\n",
            "[-8 -6 -4]\n",
            "[2 4 6]\n",
            "[ 9 16 21]\n"
          ]
        }
      ]
    },
    {
      "cell_type": "code",
      "source": [
        "mat1=np.array([[1,2],[3,4]])\n",
        "mat2=np.array([[2,3],[2,4]])\n",
        "res=np.dot(mat1,mat2)\n",
        "print(res)"
      ],
      "metadata": {
        "colab": {
          "base_uri": "https://localhost:8080/"
        },
        "id": "27FJnuQPX3sS",
        "outputId": "2b1660b9-6235-4c33-df2d-1c7eceb30f3f"
      },
      "execution_count": null,
      "outputs": [
        {
          "output_type": "stream",
          "name": "stdout",
          "text": [
            "[[ 6 11]\n",
            " [14 25]]\n"
          ]
        }
      ]
    },
    {
      "cell_type": "code",
      "source": [
        "m1=np.array([1,2,3])\n",
        "b=2\n",
        "print(m1+b)"
      ],
      "metadata": {
        "colab": {
          "base_uri": "https://localhost:8080/"
        },
        "id": "Bw_uwB5qZEfG",
        "outputId": "72e7f8a9-1353-4a6b-d63d-3eaa75addc59"
      },
      "execution_count": null,
      "outputs": [
        {
          "output_type": "stream",
          "name": "stdout",
          "text": [
            "[3 4 5]\n"
          ]
        }
      ]
    },
    {
      "cell_type": "code",
      "source": [
        "print(np.exp(m1))"
      ],
      "metadata": {
        "colab": {
          "base_uri": "https://localhost:8080/"
        },
        "id": "Vq6J_FVZZ0OX",
        "outputId": "abed6be4-1a0f-4c5c-d606-2bf39f32dc51"
      },
      "execution_count": null,
      "outputs": [
        {
          "output_type": "stream",
          "name": "stdout",
          "text": [
            "[ 2.71828183  7.3890561  20.08553692]\n"
          ]
        }
      ]
    },
    {
      "cell_type": "markdown",
      "source": [
        "1. Arithmetic ufuncs\n",
        "Operate element-wise on arrays.\n",
        "np.add(x, y)\n",
        "np.subtract(x, y)\n",
        "np.multiply(x, y)\n",
        "np.divide(x, y)\n",
        "np.power(x, y)\n",
        "np.mod(x, y)\n",
        "🔹 2. Exponential and Logarithmic ufuncs\n",
        "(You already covered these)\n",
        "np.exp(x)\n",
        "np.log(x)\n",
        "np.log10(x)\n",
        "np.log2(x)\n",
        "np.expm1(x)    # exp(x) - 1\n",
        "🔹 3. Trigonometric ufuncs\n",
        "np.sin(x)\n",
        "np.cos(x)\n",
        "np.tan(x)\n",
        "np.arcsin(x)\n",
        "np.arccos(x)\n",
        "np.arctan(x)\n",
        "np.degrees(x)\n",
        "np.radians(x)\n",
        "🔹 4. Rounding ufuncs\n",
        "np.round(x)\n",
        "np.floor(x)\n",
        "np.ceil(x)\n",
        "np.trunc(x)\n",
        "🔹 5. Statistical ufuncs\n",
        "(Operate along an axis or entire array)\n",
        "np.min(x)\n",
        "np.max(x)\n",
        "np.mean(x)\n",
        "np.std(x)\n",
        "np.var(x)\n",
        "np.sum(x)\n",
        "np.prod(x)\n",
        "🔹 6. Logical ufuncs\n",
        "np.logical_and(x, y)\n",
        "np.logical_or(x, y)\n",
        "np.logical_not(x)\n",
        "np.logical_xor(x, y)\n",
        "🔹 7. Comparison ufuncs\n",
        "(Return Boolean arrays)\n",
        "np.greater(x, y)\n",
        "np.less(x, y)\n",
        "np.equal(x, y)\n",
        "np.not_equal(x, y)\n",
        "np.greater_equal(x, y)\n",
        "np.less_equal(x, y)\n",
        "🔹 8. Bitwise ufuncs\n",
        "(Operate on integers)\n",
        "np.bitwise_and(x, y)\n",
        "np.bitwise_or(x, y)\n",
        "np.bitwise_xor(x, y)\n",
        "np.invert(x)"
      ],
      "metadata": {
        "id": "fBwqbOIVaI1W"
      }
    },
    {
      "cell_type": "code",
      "source": [
        "print(np.lcm(10,20))\n",
        "print(np.gcd(10,20))\n",
        "print(np.invert(10))"
      ],
      "metadata": {
        "id": "NCmWAfV0b3OY",
        "colab": {
          "base_uri": "https://localhost:8080/"
        },
        "outputId": "efb1516e-79e1-4986-a6e2-51b8804da275"
      },
      "execution_count": null,
      "outputs": [
        {
          "output_type": "stream",
          "name": "stdout",
          "text": [
            "20\n",
            "10\n",
            "-11\n"
          ]
        }
      ]
    },
    {
      "cell_type": "markdown",
      "source": [
        "You are a data engineer at a renewable-energy company that runs 3 solar farms.\n",
        "Each farm has 4 solar panels, and each panel reports hourly energy production (kWh) for 3 hours during a test window.\n",
        "\n",
        "Given data (raw)\n",
        "Create arrays from these values:\n",
        "production — shape (3 farms × 4 panels × 3 hours) represented as a 2D array per farm (you can stack/create as shown in tasks).\n",
        "Farm A panels (rows = panels, cols = hours):\n",
        "\n",
        "\n",
        "Tasks\n",
        "Create arrays\n",
        "Create three 2D NumPy arrays farmA, farmB, farmC (each shape (4,3)).\n",
        "Stack them into a single 3D array production_all of shape (3, 4, 3).\n",
        "Array attributes\n",
        "Print the .shape, .size, .dtype, and .ndim of production_all.\n",
        "Per-farm totals (arithmetic & aggregation)\n",
        "Use aggregation ufuncs to compute the total energy per farm (sum across panels & hours) → total_per_farm (shape (3,)).\n",
        "Compute mean, std, and var per farm.\n",
        "Per-hour matrix multiplication idea (matrix op)\n",
        "For a quick weighted estimate, create a hour_weights row vector of shape (3,) = [0.5, 1.0, 0.75] (weights for hour1, hour2, hour3).\n",
        "Compute weighted_per_panel by performing a dot product between each farm's panel-row and hour_weights to get per-panel weighted energy. (Use np.dot / matrix multiplication appropriately.)\n",
        "Broadcasting adjustments\n",
        "The operator notices a fixed calibration offset of +0.5 kWh for all panels in Farm B. Use broadcasting to add this offset to Farm B data inside production_all (without recreating whole array manually).\n",
        "Element-wise arithmetic (ufuncs: add/sub/mul/div/power/mod)\n",
        "Compute a normalized version where you:\n",
        "subtract the per-farm mean (use broadcasting),\n",
        "divide by the per-farm std (broadcasting) — i.e., z-score normalize each farm's panel-hour readings.\n",
        "Apply many ufuncs (use the ufuncs listed previously)\n",
        "Apply the following element-wise operations (create variables for each) on the normalized data (or a copy) and show the resulting arrays (or summaries — shape/dtype/first row) where appropriate:\n",
        "Exponential family: np.exp, np.expm1, np.log (note: handle non-positive inputs if needed), np.log10, np.log2.\n",
        "Trigonometric: np.sin, np.cos, np.tan, np.arcsin, np.arccos, np.arctan, plus np.degrees, np.radians applied appropriately.\n",
        "Rounding: np.round, np.floor, np.ceil, np.trunc.\n",
        "Comparison & logical ufuncs: create a boolean mask high_output = production_all > 20 and apply np.logical_and, np.logical_or, np.logical_not, np.logical_xor combining masks (e.g., high_output and even_hours_mask). Also use comparison ufuncs like np.greater_equal, np.less.\n",
        "Bitwise ufuncs (on integer arrays): create an integer array alerts = np.array([[1,0,1],[0,0,1],[1,1,0],[0,1,0]]) for each farm (shape match required) — then apply np.bitwise_and, np.bitwise_or, np.invert where sensible.\n",
        "Arithmetic ufuncs again: np.add, np.subtract, np.multiply, np.divide, np.power, np.mod.\n",
        "Aggregations over ufunc outputs: e.g., np.sum(np.exp(...)), np.mean(np.sin(...)).\n",
        "Broadcast-based summary table\n",
        "Use broadcasting to compute a (3,4) array panel_totals_per_farm = total per panel (sum across hours for each panel), and then compute a (3,) boolean needs_maintenance saying True if any panel in that farm has total < 40. Use np.min, np.max, np.any, np.all.\n",
        "Final KPIs (aggregation)\n",
        "Compute:\n",
        "overall_total (sum of all farms),\n",
        "peak_hour value (max across hours) and which farm & panel produced it (use np.argmax with careful unraveling),\n",
        "average_per_panel across all farms."
      ],
      "metadata": {
        "id": "L9kq8ehjhE_M"
      }
    },
    {
      "cell_type": "code",
      "source": [
        "import numpy as np\n",
        "farmA = np.array([\n",
        "    [10, 12, 11],\n",
        "    [9, 11, 10],\n",
        "    [12, 13, 14],\n",
        "    [8, 7, 9]\n",
        "])\n",
        "\n",
        "farmB = np.array([\n",
        "    [20, 19, 21],\n",
        "    [18, 20, 19],\n",
        "    [22, 23, 21],\n",
        "    [17, 18, 16]\n",
        "])\n",
        "\n",
        "farmC = np.array([\n",
        "    [15, 16, 14],\n",
        "    [14, 13, 15],\n",
        "    [16, 17, 18],\n",
        "    [12, 11, 13]\n",
        "])\n",
        "\n",
        "# -----------------------\n",
        "# Step 2: Stack into 3D array (3 farms × 4 panels × 3 hours)\n",
        "production_all = np.array([farmA, farmB, farmC], dtype=float)  # Convert to float for future operations\n",
        "\n",
        "# Array attributes\n",
        "print(\"Shape:\", production_all.shape)\n",
        "print(\"Size:\", production_all.size)\n",
        "print(\"Dtype:\", production_all.dtype)\n",
        "print(\"Dimensions:\", production_all.ndim)\n",
        "\n",
        "# -----------------------\n",
        "# Step 3: Per-farm totals\n",
        "total_per_farm = production_all.sum(axis=(1,2))\n",
        "mean_per_farm = production_all.mean(axis=(1,2))\n",
        "std_per_farm = production_all.std(axis=(1,2))\n",
        "var_per_farm = production_all.var(axis=(1,2))\n",
        "\n",
        "print(\"\\nTotal energy per farm:\", total_per_farm)\n",
        "print(\"Mean per farm:\", mean_per_farm)\n",
        "print(\"Std per farm:\", std_per_farm)\n",
        "print(\"Var per farm:\", var_per_farm)\n",
        "\n",
        "# -----------------------\n",
        "# Step 4: Weighted per panel\n",
        "hour_weights = np.array([0.5, 1.0, 0.75])\n",
        "weighted_per_panel = np.tensordot(production_all, hour_weights, axes=([2],[0]))\n",
        "print(\"\\nWeighted per panel (shape 3x4):\\n\", weighted_per_panel)\n",
        "\n",
        "# -----------------------\n",
        "# Step 5: Broadcast calibration offset (+0.5) to Farm B (index 1)\n",
        "production_all[1] += 0.5\n",
        "print(\"\\nFarm B after calibration offset:\\n\", production_all[1])\n",
        "\n",
        "# -----------------------\n",
        "# Step 6: Z-score normalization per farm\n",
        "normalized = (production_all - mean_per_farm[:,None,None]) / std_per_farm[:,None,None]\n",
        "print(\"\\nNormalized data (first farm, first row):\", normalized[0,0])\n",
        "\n",
        "# -----------------------\n",
        "# Step 7: Element-wise ufuncs\n",
        "\n",
        "# Exponential and log\n",
        "exp_norm = np.exp(normalized)\n",
        "expm1_norm = np.expm1(normalized)\n",
        "log_norm = np.log(normalized - normalized.min() + 1e-5)\n",
        "log10_norm = np.log10(normalized - normalized.min() + 1e-5)\n",
        "log2_norm = np.log2(normalized - normalized.min() + 1e-5)\n",
        "\n",
        "# Trigonometric\n",
        "sin_norm = np.sin(normalized)\n",
        "cos_norm = np.cos(normalized)\n",
        "tan_norm = np.tan(normalized)\n",
        "arcsin_norm = np.arcsin(np.clip(normalized, -1, 1))\n",
        "arccos_norm = np.arccos(np.clip(normalized, -1, 1))\n",
        "arctan_norm = np.arctan(normalized)\n",
        "degrees_norm = np.degrees(normalized)\n",
        "radians_norm = np.radians(normalized)\n",
        "\n",
        "# Rounding\n",
        "round_norm = np.round(normalized, 2)\n",
        "floor_norm = np.floor(normalized)\n",
        "ceil_norm = np.ceil(normalized)\n",
        "trunc_norm = np.trunc(normalized)\n",
        "\n",
        "# Logical & comparison\n",
        "high_output = production_all > 20\n",
        "even_hours_mask = np.array([True, False, True])\n",
        "even_hours_mask_exp = even_hours_mask[None,None,:]\n",
        "logical_and_mask = np.logical_and(high_output, even_hours_mask_exp)\n",
        "logical_or_mask = np.logical_or(high_output, even_hours_mask_exp)\n",
        "logical_not_mask = np.logical_not(high_output)\n",
        "logical_xor_mask = np.logical_xor(high_output, even_hours_mask_exp)\n",
        "\n",
        "# Bitwise (example alerts)\n",
        "alerts = np.array([[1,0,1],[0,0,1],[1,1,0],[0,1,0]])\n",
        "bitwise_and = np.bitwise_and(alerts, alerts)\n",
        "bitwise_or = np.bitwise_or(alerts, alerts)\n",
        "bitwise_invert = np.bitwise_not(alerts)\n",
        "\n",
        "# Arithmetic\n",
        "add_arr = np.add(production_all, 1)\n",
        "sub_arr = np.subtract(production_all, 1)\n",
        "mul_arr = np.multiply(production_all, 2)\n",
        "div_arr = np.divide(production_all, 2)\n",
        "power_arr = np.power(production_all, 2)\n",
        "mod_arr = np.mod(production_all, 2)\n",
        "\n",
        "# Aggregation over ufuncs\n",
        "sum_exp = np.sum(np.exp(production_all))\n",
        "mean_sin = np.mean(np.sin(production_all))\n",
        "\n",
        "# -----------------------\n",
        "# Step 8: Panel totals & maintenance check\n",
        "panel_totals_per_farm = production_all.sum(axis=2)\n",
        "needs_maintenance = np.any(panel_totals_per_farm < 40, axis=1)\n",
        "print(\"\\nPanel totals per farm:\\n\", panel_totals_per_farm)\n",
        "print(\"Farms needing maintenance:\", needs_maintenance)\n",
        "\n",
        "# -----------------------\n",
        "# Step 9: Final KPIs\n",
        "overall_total = production_all.sum()\n",
        "peak_hour_value = production_all.max()\n",
        "peak_index = np.unravel_index(np.argmax(production_all), production_all.shape)\n",
        "peak_farm, peak_panel, peak_hour = peak_index\n",
        "average_per_panel = production_all.mean(axis=2)\n",
        "\n",
        "print(\"\\nOverall total energy:\", overall_total)\n",
        "print(\"Peak hour value:\", peak_hour_value)\n",
        "print(\"Produced by Farm\", peak_farm, \"Panel\", peak_panel, \"Hour\", peak_hour)\n",
        "print(\"Average per panel:\\n\", average_per_panel)\n"
      ],
      "metadata": {
        "colab": {
          "base_uri": "https://localhost:8080/"
        },
        "id": "lBNMuRXLfnxA",
        "outputId": "23e5b6c6-4002-4b90-a4a3-a09096b4fd7a"
      },
      "execution_count": null,
      "outputs": [
        {
          "output_type": "stream",
          "name": "stdout",
          "text": [
            "Shape: (3, 4, 3)\n",
            "Size: 36\n",
            "Dtype: float64\n",
            "Dimensions: 3\n",
            "\n",
            "Total energy per farm: [126. 234. 174.]\n",
            "Mean per farm: [10.5 19.5 14.5]\n",
            "Std per farm: [1.97905701 1.97905701 1.97905701]\n",
            "Var per farm: [3.91666667 3.91666667 3.91666667]\n",
            "\n",
            "Weighted per panel (shape 3x4):\n",
            " [[25.25 23.   29.5  17.75]\n",
            " [44.75 43.25 49.75 38.5 ]\n",
            " [34.   31.25 38.5  26.75]]\n",
            "\n",
            "Farm B after calibration offset:\n",
            " [[20.5 19.5 21.5]\n",
            " [18.5 20.5 19.5]\n",
            " [22.5 23.5 21.5]\n",
            " [17.5 18.5 16.5]]\n",
            "\n",
            "Normalized data (first farm, first row): [-0.25264558  0.75793673  0.25264558]\n",
            "\n",
            "Panel totals per farm:\n",
            " [[33.  30.  39.  24. ]\n",
            " [61.5 58.5 67.5 52.5]\n",
            " [45.  42.  51.  36. ]]\n",
            "Farms needing maintenance: [ True False  True]\n",
            "\n",
            "Overall total energy: 540.0\n",
            "Peak hour value: 23.5\n",
            "Produced by Farm 1 Panel 2 Hour 1\n",
            "Average per panel:\n",
            " [[11.  10.  13.   8. ]\n",
            " [20.5 19.5 22.5 17.5]\n",
            " [15.  14.  17.  12. ]]\n"
          ]
        }
      ]
    },
    {
      "cell_type": "code",
      "source": [
        "a=np.array([1,2,3,4,5,6])\n",
        "print(a.reshape(2,3,1))\n",
        "print(a[a>3])\n",
        "i=[0,3]\n",
        "print(a[i])\n",
        "cp=a.copy()\n",
        "v=a.view()\n",
        "a[4]=7\n",
        "print(cp)\n",
        "print(v)"
      ],
      "metadata": {
        "colab": {
          "base_uri": "https://localhost:8080/"
        },
        "id": "Y4dTSLpm2JCD",
        "outputId": "eeeb4517-e4fe-452b-e72e-9801cc301294"
      },
      "execution_count": null,
      "outputs": [
        {
          "output_type": "stream",
          "name": "stdout",
          "text": [
            "[[[1]\n",
            "  [2]\n",
            "  [3]]\n",
            "\n",
            " [[4]\n",
            "  [5]\n",
            "  [6]]]\n",
            "[4 5 6]\n",
            "[1 4]\n",
            "[1 2 3 4 5 6]\n",
            "[1 2 3 4 7 6]\n",
            "[1 2 3 4 5]\n"
          ]
        }
      ]
    },
    {
      "cell_type": "code",
      "source": [
        "np.save('array.npy',arr)\n",
        "loaded_arr=np.load('array.npy')\n",
        "print(loaded_arr)"
      ],
      "metadata": {
        "colab": {
          "base_uri": "https://localhost:8080/"
        },
        "id": "iLRcsLMJ7AOt",
        "outputId": "a61b8667-4426-4455-db99-14bddf0140e8"
      },
      "execution_count": null,
      "outputs": [
        {
          "output_type": "stream",
          "name": "stdout",
          "text": [
            "[1 2 3 4 5]\n"
          ]
        }
      ]
    },
    {
      "cell_type": "markdown",
      "source": [
        "TasksArray Creation\n",
        "Create a 1D array of numbers from 10 to 50.\n",
        "Create a 3x3 array of random numbers between 0 and 1.\n",
        "Array Attributes\n",
        "Find the shape, size, and data type of the array you created in the previous task.\n",
        "Basic Operations\n",
        "Add 5 to every element of a 1D array.\n",
        "Multiply two 2D arrays element-wise.\n",
        "Indexing and Slicing\n",
        "Create a 5x5 array of integers from 1 to 25. Extract:\n",
        "The first row.\n",
        "The last column.\n",
        "A subarray of the first three rows and first two columns.\n",
        "Aggregation\n",
        "Create a 10-element array of random integers between 10 and 100. Find:\n",
        "The maximum value.\n",
        "The minimum value.\n",
        "The mean and standard deviation.\n",
        "Reshaping\n",
        "Convert a 1D array of numbers from 1 to 12 into a 3x4 matrix.\n",
        "Broadcasting\n",
        "Create a 3x3 matrix of ones. Add a 1D array [1, 2, 3] to each row.\n",
        "Filtering\n",
        "Create a 1D array of random integers between 1 and 50. Extract all elements that are divisible by 5.\n",
        "Matrix Multiplication\n",
        "Create two 2x2 matrices and perform matrix multiplication.\n",
        "Advanced Indexing\n",
        "Given a 4x4 array, use fancy indexing to extract the diagonal elements.\n"
      ],
      "metadata": {
        "id": "pDMJhDHR8Jag"
      }
    },
    {
      "cell_type": "code",
      "source": [
        "nums=np.arange(10,51)\n",
        "print(nums)\n",
        "arr=np.random.rand(3,3)\n",
        "print(arr)\n",
        "print(arr.shape)\n",
        "print(arr.size)\n",
        "print(arr.dtype)\n",
        "nums=nums+5\n",
        "print(nums)\n",
        "m1=np.array([[1,2],[3,4]])\n",
        "m2=np.array([[2,4],[1,2]])\n",
        "print(m1*m2)\n",
        "arr=np.arange(1,26).reshape(5,5)\n",
        "print(arr)\n",
        "first=arr[0,:]\n",
        "print(first)\n",
        "last=arr[:,-1]\n",
        "print(last)\n",
        "sub1=arr[:3,:2]\n",
        "print(sub1)\n",
        "randomnum=np.random.randint(10,101,10)\n",
        "print(max(randomnum))\n",
        "print(min(randomnum))\n",
        "mean=np.mean(randomnum)\n",
        "print(mean)\n",
        "stddev=np.std(randomnum)\n",
        "print(stddev)\n",
        "new=np.arange(1,13)\n",
        "res=new.reshape(4,3)\n",
        "print(res)\n",
        "ones=np.ones((3,3))\n",
        "print(ones)\n",
        "new_add=ones+np.array([1,2,3])\n",
        "print(new_add)\n",
        "random=np.random.randint(1,51,50)\n",
        "div=random[random%5==0]\n",
        "print(div)\n",
        "print(m1.dot(m2))\n",
        "f=np.array([[1,2,3,4],[5,6,7,8],[9,10,11,12],[13,14,15,16]])\n",
        "print(f.diagonal())"
      ],
      "metadata": {
        "colab": {
          "base_uri": "https://localhost:8080/"
        },
        "id": "xbbrCg1y8LU4",
        "outputId": "85574412-00d4-4c1d-d86d-2faa1a1947b8"
      },
      "execution_count": null,
      "outputs": [
        {
          "output_type": "stream",
          "name": "stdout",
          "text": [
            "[10 11 12 13 14 15 16 17 18 19 20 21 22 23 24 25 26 27 28 29 30 31 32 33\n",
            " 34 35 36 37 38 39 40 41 42 43 44 45 46 47 48 49 50]\n",
            "[[0.06236965 0.10457298 0.22314334]\n",
            " [0.23029921 0.76098581 0.56825076]\n",
            " [0.28738325 0.5592517  0.06557431]]\n",
            "(3, 3)\n",
            "9\n",
            "float64\n",
            "[15 16 17 18 19 20 21 22 23 24 25 26 27 28 29 30 31 32 33 34 35 36 37 38\n",
            " 39 40 41 42 43 44 45 46 47 48 49 50 51 52 53 54 55]\n",
            "[[2 8]\n",
            " [3 8]]\n",
            "[[ 1  2  3  4  5]\n",
            " [ 6  7  8  9 10]\n",
            " [11 12 13 14 15]\n",
            " [16 17 18 19 20]\n",
            " [21 22 23 24 25]]\n",
            "[1 2 3 4 5]\n",
            "[ 5 10 15 20 25]\n",
            "[[ 1  2]\n",
            " [ 6  7]\n",
            " [11 12]]\n",
            "94\n",
            "10\n",
            "55.2\n",
            "28.7986110776197\n",
            "[[ 1  2  3]\n",
            " [ 4  5  6]\n",
            " [ 7  8  9]\n",
            " [10 11 12]]\n",
            "[[1. 1. 1.]\n",
            " [1. 1. 1.]\n",
            " [1. 1. 1.]]\n",
            "[[2. 3. 4.]\n",
            " [2. 3. 4.]\n",
            " [2. 3. 4.]]\n",
            "[35 15 50 40 20 25  5 40]\n",
            "[[ 4  8]\n",
            " [10 20]]\n",
            "[ 1  6 11 16]\n"
          ]
        }
      ]
    }
  ]
}